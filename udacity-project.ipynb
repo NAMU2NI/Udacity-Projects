{
 "cells": [
  {
   "cell_type": "code",
   "execution_count": null,
   "metadata": {},
   "outputs": [],
   "source": [
    "from azureml.core import Workspace, Experiment\n",
    "\n",
    "ws = Workspace.from_config()\n",
    "exp = Experiment(workspace=ws, name=\"udacity-project\")\n",
    "\n",
    "print('Workspace name: ' + ws.name, \n",
    "      'Azure region: ' + ws.location, \n",
    "      'Subscription id: ' + ws.subscription_id, \n",
    "      'Resource group: ' + ws.resource_group, sep = '\\n')\n",
    "\n",
    "run = exp.start_logging()"
   ]
  },
  {
   "cell_type": "code",
   "execution_count": null,
   "metadata": {},
   "outputs": [],
   "source": [
    "from azureml.core.compute import ComputeTarget, AmlCompute\n",
    "from azureml.core.compute_target import ComputeTargetException \n",
    "\n",
    "# Choose a name for your CPU cluster\n",
    "amlcompute_cluster_name = \"Demo-Cluster\"\n",
    "\n",
    "# Verify that cluster does not exist already\n",
    "try:\n",
    "    aml_compute = ComputeTarget(workspace=ws, name=amlcompute_cluster_name)\n",
    "    print('Found existing cluster, use it.')\n",
    "except ComputeTargetException:\n",
    "    print(\"Creating a new compute cluster...\")\n",
    "    compute_config =  AmlCompute.provisioning_configuration(vm_size='STANDARD_D2S_V3', max_nodes=4, min_nodes=0, vm_priority='lowpriority') \n",
    "    aml_compute = ComputeTarget.create(ws, amlcompute_cluster_name, compute_config)\n",
    "\n",
    "# Can poll for a minimum number of nodes and for a specific timeout. \n",
    "# If no min node count is provided it uses the scale settings for the cluster.\n",
    "    \n",
    "#aml_compute.wait_for_completion(show_output=True)\n",
    "aml_compute.wait_for_completion(show_output=True, min_node_count = None, timeout_in_minutes = 60)\n",
    "#compute_target.wait_for_completion(show_output=True, min_node_count = None, timeout_in_minutes = 60)\n",
    "\n",
    "\n",
    "# use get_status() to get a detailed status for the current cluster. \n",
    "print(aml_compute.get_status().serialize())"
   ]
  },
  {
   "cell_type": "code",
   "execution_count": null,
   "metadata": {},
   "outputs": [],
   "source": [
    "from azureml.widgets import RunDetails\n",
    "from azureml.train.sklearn import SKLearn\n",
    "from azureml.train.hyperdrive.run import PrimaryMetricGoal\n",
    "from azureml.train.hyperdrive.policy import BanditPolicy\n",
    "from azureml.train.hyperdrive.sampling import RandomParameterSampling\n",
    "from azureml.train.hyperdrive.runconfig import HyperDriveConfig\n",
    "from azureml.train.hyperdrive.parameter_expressions import uniform , choice\n",
    "from azureml.train.estimator import Estimator\n",
    "import os\n",
    "\n",
    "# Specify parameter sampler\n",
    "paraSampler = RandomParameterSampling(\n",
    "             {\n",
    "            \"--C\": uniform(0.1, 1.0),\n",
    "              } )\n",
    "\n",
    "\n",
    "# Specify a Policy\n",
    "policyBandit = BanditPolicy(slack_factor = 0.1, evaluation_interval=1, delay_evaluation=5)\n",
    "\n",
    "if \"training\" not in os.listdir():\n",
    "    os.mkdir(\"./training\")\n",
    "\n",
    "\n",
    "    \n",
    "# Create a SKLearn estimator for use with train.py\n",
    "est = SKLearn(source_directory=\".\", compute_target=aml_compute, entry_script=\"train.py\",\n",
    "              script_params={'--C':1.0, '--max_iter':100})    \n",
    "\n",
    "# Create a SKLearn estimator for use with train.py\n",
    "#est =  Estimator(source_directory=os.path.join('.'),\n",
    "#                      entry_script='train.py',\n",
    "#                      compute_target=aml_compute)\n",
    "\n",
    "\n",
    "# Create a HyperDriveConfig using the estimator, hyperparameter sampler, and policy.\n",
    "hyperdrive_config = HyperDriveConfig(\n",
    "                    estimator=est,\n",
    "                    hyperparameter_sampling=paraSampler,\n",
    "                    policy=policyBandit,\n",
    "                    primary_metric_name='Accuracy',\n",
    "                    primary_metric_goal=PrimaryMetricGoal.MAXIMIZE,\n",
    "                    max_concurrent_runs = 4,    \n",
    "                    max_total_runs=2)"
   ]
  },
  {
   "cell_type": "code",
   "execution_count": null,
   "metadata": {},
   "outputs": [],
   "source": [
    "# Submit your hyperdrive run to the experiment and show run details with the widget.\n",
    "\n",
    "#exp = Experiment(workspace=ws, name='tuning')\n",
    "#run = exp.submit(hyperdrive_config)\n",
    "\n",
    "hyperdrive_run = exp.submit(config=hyperdrive_config, show_output=True)\n",
    "RunDetails(hyperdrive_run).show()\n",
    "\n",
    "#run.wait_for_completion(show_output=True)\n",
    "\n",
    "### YOUR CODE HERE ###"
   ]
  }
 ],
 "metadata": {
  "kernelspec": {
   "display_name": "Python 3",
   "language": "python",
   "name": "python3"
  },
  "language_info": {
   "codemirror_mode": {
    "name": "ipython",
    "version": 3
   },
   "file_extension": ".py",
   "mimetype": "text/x-python",
   "name": "python",
   "nbconvert_exporter": "python",
   "pygments_lexer": "ipython3",
   "version": "3.7.4"
  }
 },
 "nbformat": 4,
 "nbformat_minor": 2
}
